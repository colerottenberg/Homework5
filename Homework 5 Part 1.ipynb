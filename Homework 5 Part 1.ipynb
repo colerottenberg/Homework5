{
 "cells": [
  {
   "cell_type": "markdown",
   "id": "00504a95",
   "metadata": {},
   "source": [
    "# Homework 5 Part 1\n",
    "\n",
    "**Due: Monday, November 20, 11:59 PM**\n",
    "\n",
    "This is an individual assignment."
   ]
  },
  {
   "cell_type": "markdown",
   "id": "8eadba57-228c-4713-b678-36d81d46127e",
   "metadata": {},
   "source": [
    "## Description\n",
    "\n",
    "Provide analytical solutions to the problems below and upload your answers as a PDF. (There is no need to type your answers -- just scan your handwritten solutions with an app like [CamScanner](https://www.camscanner.com/user/download) or [Scannable](https://apps.apple.com/us/app/evernote-scannable/id883338188).)"
   ]
  },
  {
   "cell_type": "markdown",
   "id": "7560efb1-bb53-4c78-8eda-447989200aa0",
   "metadata": {
    "tags": []
   },
   "source": [
    "# Problem 1 - Biased Estimator\n",
    "\n",
    "Consider a set of i.i.d. data $X=\\{X_i\\}_{i=1}^N$, with mean $\\mu$ and varaince $\\sigma^2$. Define the following estimator for the mean:\n",
    "\n",
    "\\begin{align*}\n",
    "\\hat{\\mu}_c &= \\frac{1}{N} \\sum_{i=1}^N (X_i + c), \\qquad c \\in \\mathbb{R}\n",
    "\\end{align*}\n",
    "\n",
    "1. Compute the bias of this estimator, $b_{\\mu}(\\hat{\\mu}_c)$.\n",
    "\n",
    "2. Compute $\\operatorname{Var}[\\hat{\\mu}_c]$.\n",
    "\n",
    "3. Define the parametric distribution for $\\hat{\\mu}_c$ based on the results from part (1) and (2).\n",
    "\n",
    "Consider the following scaled estimator\n",
    "\\begin{align*}\n",
    "\\hat{\\mu}_\\lambda &= \\frac{\\lambda}{N} \\sum_{i=1}^N X_i, \\qquad \\lambda >0\n",
    "\\end{align*}\n",
    "\n",
    "4. Compute the bias of this estimator, $b_{\\mu}(\\hat{\\mu}_\\lambda)$.\n",
    "\n",
    "5. Compute $\\operatorname{Var}[\\hat{\\mu}_\\lambda]$.\n",
    "\n",
    "6. Find the $\\lambda$ that minimizes the mean squared error (MSE) of $\\hat{\\mu}_\\lambda$ for estimating the true mean. Is optimal $\\lambda$ large or smaller than 1?\n",
    "\n",
    "7. Given the condition $\\mu=\\sigma$. Compare the MSE of the unbiased estimator $\\hat{\\mu} = \\frac{1}{N} \\sum_{i=1}^N X_i$, and the optimal $\\hat{\\mu}_\\lambda$. Which one is smaller and why?"
   ]
  },
  {
   "cell_type": "markdown",
   "id": "6642440f-3886-4a32-9236-e7f80226f7af",
   "metadata": {},
   "source": [
    "# Problem 2\n",
    "\n",
    "A plant grows on two distant islands. Suppose that its life span (measured in days) on the first (and the second) island is normally distributed with unknown mean $\\mu_X$ and known variance $\\sigma_X^2=22$ (and $\\sigma_Y^2=39$, respectively). We wish to test the hypothesis $\\mu_X=\\mu_Y$, based on 20 independent samples from each island. The corresponding sample means are $\\bar{x}=191$ and $\\bar{y}=185$. \n",
    "\n",
    "1. Construct 95% confidence interval for the two mean estimates.\n",
    "2. Does the data support the hypothesis at the 95% significance level?"
   ]
  },
  {
   "cell_type": "markdown",
   "id": "eccae28a-0ca8-480c-85b5-97e670121158",
   "metadata": {},
   "source": [
    "# Problem 3 - Independence, Basis & Dimension\n",
    "\n",
    "Answer the following problems:\n",
    "\n",
    "1. Start with the vector $\\mathbf{v}_1=[1,2,0]^T$ and $\\mathbf{v}_2=[2,3,0]^T$.\n",
    "    1. Are they linearly independent?\n",
    "    \n",
    "    2. Are they a basis of any space?\n",
    "        \n",
    "    3. What space $\\mathbf{V}$ do they span?\n",
    "    \n",
    "    4. What is the dimension of $\\mathbf{V}$?\n",
    "    \n",
    "    5. Describe all vectors $\\mathbf{v}_3$ that complete a basis $\\mathbf{v}_1$, $\\mathbf{v}_2$, $\\mathbf{v}_3$ for $\\mathbb{R}^3$."
   ]
  },
  {
   "cell_type": "markdown",
   "id": "10f8a111-5b67-45da-a999-47700ac63d15",
   "metadata": {},
   "source": [
    "2. Show that $\\mathbf{v}_1$, $\\mathbf{v}_2$ and $\\mathbf{v}_3$ are linearly independent but $\\mathbf{v}_1$, $\\mathbf{v}_2$, $\\mathbf{v}_3$, $\\mathbf{v}_4$ are linearly dependent, where:\n",
    "\n",
    "\\begin{align*}\n",
    "\\mathbf{v}_1 =\\left[\\begin{matrix}1\\\\0\\\\0\\end{matrix}\\right]~~~~~~~~~\\mathbf{v}_2=\\left[\\begin{matrix}1\\\\1\\\\0\\end{matrix}\\right]~~~~~~~~~\\mathbf{v}_3 =\\left[\\begin{matrix}1\\\\1\\\\1\\end{matrix}\\right]~~~~~~~~~\\mathbf{v}_4 =\\left[\\begin{matrix}2\\\\3\\\\4\\end{matrix}\\right]\n",
    "\\end{align*}"
   ]
  },
  {
   "cell_type": "markdown",
   "id": "2cccc9cd-1b23-4ae1-985e-16675adb5b6e",
   "metadata": {},
   "source": [
    "3. Find the largest possible number of independent vectors among\n",
    "\n",
    "\\begin{align*}\n",
    "\\mathbf{v}_1 =\\left[\\begin{matrix}1\\\\-1\\\\0\\\\0\\end{matrix}\\right]~~~~~~~~~\\mathbf{v}_2=\\left[\\begin{matrix}1\\\\0\\\\-1\\\\0\\end{matrix}\\right]~~~~~~~~~\\mathbf{v}_3 =\\left[\\begin{matrix}1\\\\0\\\\0\\\\-1\\end{matrix}\\right]~~~~~~~~~\\mathbf{v}_4 =\\left[\\begin{matrix}0\\\\1\\\\-1\\\\0\\end{matrix}\\right]~~~~~~~~~\\mathbf{v}_5 =\\left[\\begin{matrix}0\\\\1\\\\0\\\\-1\\end{matrix}\\right]~~~~~~~~~\\mathbf{v}_6 =\\left[\\begin{matrix}0\\\\0\\\\1\\\\-1\\end{matrix}\\right]\n",
    "\\end{align*}"
   ]
  },
  {
   "cell_type": "markdown",
   "id": "c4c78dfe-4afb-4ef7-bd7f-9b558ecd94fd",
   "metadata": {},
   "source": [
    "4. Suppose $\\mathbf{v}_1$, $\\mathbf{v}_2$, $\\mathbf{v}_3$, $\\mathbf{v}_4$ are vectors in $\\mathbb{R}^3$.\n",
    "\n",
    "    1. These four vectors are dependent because ____.\n",
    "    \n",
    "    2. The two vectors $\\mathbf{v}_1$ and $\\mathbf{v}_2$ will be dependent if ____.\n",
    "    \n",
    "    3. The vectors $\\mathbf{v}_1$ and $[0,0,0]^T$ are dependent because ____.\n",
    "    "
   ]
  },
  {
   "cell_type": "markdown",
   "id": "e83c02f0-790d-4322-ba74-c870a42d9b5e",
   "metadata": {},
   "source": [
    "5. Suppose $\\mathbf{v}_1,\\mathbf{v}_2,\\dots,\\mathbf{v}_6$ are six vectors in $\\mathbb{R}^4$.\n",
    "\n",
    "    1. Those vectors (do)(do not)(might not) span $\\mathbb{R}^4$.\n",
    "    \n",
    "    2. Those vectors (are)(are not)(might be) linearly independent.\n",
    "    \n",
    "    3. Any four of those vectors (are)(are not)(might be) a basis for $\\mathbb{R}^4$."
   ]
  },
  {
   "cell_type": "markdown",
   "id": "7bf80eb6-83c5-4fe6-9204-2f346db741d7",
   "metadata": {},
   "source": [
    "# Problem 4 - Linear Regression\n",
    "\n",
    "Consider the regression model ${y} = \\mathbf{x}\\cdot\\mathbf{\\beta} + {v}$, where $\\mathbf{y}$ is the predicted\n",
    "response, $\\mathbf{x}$ is an 8-vector of features, $\\mathbf{\\beta}$ is an 8-vector of coefficients, and ${v}$ is the offset/bias term. Determine whether each of the following statements is true or false.\n",
    "    \n",
    "1. If $\\beta_3 > 0$ and $x_3 > 0$, then ${y}\\geq 0$.\n",
    "  \n",
    "2. If $\\beta_2=0$ then the prediction ${y}$ does not depend on the second feature $x_2$.\n",
    "\n",
    "3. If $\\beta_6=-0.8$, then increasing $x_6$ (keeping all other $x_i$s the same) will decrease ${y}$."
   ]
  }
 ],
 "metadata": {
  "kernelspec": {
   "display_name": "Python 3 (ipykernel)",
   "language": "python",
   "name": "python3"
  },
  "language_info": {
   "codemirror_mode": {
    "name": "ipython",
    "version": 3
   },
   "file_extension": ".py",
   "mimetype": "text/x-python",
   "name": "python",
   "nbconvert_exporter": "python",
   "pygments_lexer": "ipython3",
   "version": "3.11.4"
  },
  "latex_envs": {
   "LaTeX_envs_menu_present": true,
   "autoclose": false,
   "autocomplete": true,
   "bibliofile": "biblio.bib",
   "cite_by": "apalike",
   "current_citInitial": 1,
   "eqLabelWithNumbers": true,
   "eqNumInitial": 1,
   "hotkeys": {
    "equation": "Ctrl-E",
    "itemize": "Ctrl-I"
   },
   "labels_anchors": false,
   "latex_user_defs": false,
   "report_style_numbering": false,
   "user_envs_cfg": false
  },
  "varInspector": {
   "cols": {
    "lenName": 16,
    "lenType": 16,
    "lenVar": 40
   },
   "kernels_config": {
    "python": {
     "delete_cmd_postfix": "",
     "delete_cmd_prefix": "del ",
     "library": "var_list.py",
     "varRefreshCmd": "print(var_dic_list())"
    },
    "r": {
     "delete_cmd_postfix": ") ",
     "delete_cmd_prefix": "rm(",
     "library": "var_list.r",
     "varRefreshCmd": "cat(var_dic_list()) "
    }
   },
   "types_to_exclude": [
    "module",
    "function",
    "builtin_function_or_method",
    "instance",
    "_Feature"
   ],
   "window_display": false
  }
 },
 "nbformat": 4,
 "nbformat_minor": 5
}
