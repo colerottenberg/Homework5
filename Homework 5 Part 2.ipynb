{
 "cells": [
  {
   "cell_type": "markdown",
   "metadata": {},
   "source": [
    "# Homework 5 Part 2\n",
    "\n",
    "**Due: Monday, November 20, 11:59 PM**\n",
    "\n",
    "This is an individual assignment."
   ]
  },
  {
   "cell_type": "markdown",
   "metadata": {},
   "source": [
    "## Description\n",
    "\n",
    "Create or edit this Jupyter Notebook to answer the questions below. Use simulations to answer these questions. An analytical solution can be useful to check if your simulation is correct but analytical solutions alone will not be accepted as a solution to a problem."
   ]
  },
  {
   "cell_type": "markdown",
   "metadata": {},
   "source": [
    "# Problem 5\n",
    "\n",
    "A surveillance camera periodically checks a certain area and records a signal $X=W$ if there is no intruder (this is the null hypothesis $H_0$). If there is an intruder the signal is $X=\\theta+W$, where $\\theta$ is unknown with $\\theta>0$. We assume that $W$ is a normal random variable with mean 0 and known variance $v=0.6$.\n",
    "\n",
    "(a) We obtain a single signal value $X=0.86$. Should $H_0$ be rejected at the 5% level of significance?\n",
    "\n",
    "(b) We obtain five independent signal values $X=0.93, -0.36, 0.89, 0.42, -0.27$. Should $H_0$ be rejected at the 5% level of significance?\n",
    "\n",
    "(c) Repeat part (b), using a t-distribution, and assuming the variance $v$ is unknown."
   ]
  },
  {
   "cell_type": "markdown",
   "metadata": {},
   "source": [
    "# Problem 6\n",
    "\n",
    "Leukemia is a type of cancer found in the blood and bone marrow and is caused by the rapid production of abnormal white blood cells (leukocytes). These abnormal white blood cells are not able to fight infection and impair the ability of the bone marrow to produce red blood cells and platelets.\n",
    "\n",
    "Suppose that leukocytes cell count for people without Leukemia/cancer can be approximately modeled with a $\\operatorname{Gaussian}(\\mu=8, \\sigma^2=5)$ and leukocytes cell count for people with Leukemia/cancer are approximately $\\operatorname{Gaussian}(\\mu=14, \\sigma^2=6)$.\n",
    "\n",
    "Answer the following questions:\n",
    "\n",
    "1. (4 points) Determine the threshold $\\gamma$ for the leukocytes cell count such that the probability of a miss is 5%."
   ]
  },
  {
   "cell_type": "markdown",
   "metadata": {},
   "source": [
    "2. (4 points) What is the probability of false alarm using the threshold value $\\gamma$ found in part (1)."
   ]
  },
  {
   "cell_type": "markdown",
   "metadata": {},
   "source": [
    "3. (4 points) Compute FPR and TPR, plot the ROC curve and compute the AUC."
   ]
  },
  {
   "cell_type": "markdown",
   "metadata": {},
   "source": [
    "4. (3 points) What is the range of value for the threshold $\\gamma$ such that the FPR is less than 15%?"
   ]
  },
  {
   "cell_type": "markdown",
   "metadata": {},
   "source": [
    "# Problem 7\n",
    "\n",
    "This problem uses the Iris dataset from the UCI ML Repository and available with ```scikit-learn```.\n",
    "\n",
    "Let's load the data:"
   ]
  },
  {
   "cell_type": "code",
   "execution_count": 7,
   "metadata": {
    "tags": []
   },
   "outputs": [],
   "source": [
    "from sklearn.datasets import load_iris\n",
    "import pandas as pd\n",
    "import numpy as np\n",
    "\n",
    "iris = load_iris(return_X_y=False)\n",
    "\n",
    "#print(iris.DESCR)"
   ]
  },
  {
   "cell_type": "markdown",
   "metadata": {},
   "source": [
    "This data set contains samples from 3 types of Iris plants: 0 (setosa), 1 (versicolor) and 2 (virginica):"
   ]
  },
  {
   "cell_type": "code",
   "execution_count": 8,
   "metadata": {
    "tags": []
   },
   "outputs": [
    {
     "data": {
      "text/plain": [
       "array(['setosa', 'versicolor', 'virginica'], dtype='<U10')"
      ]
     },
     "execution_count": 8,
     "metadata": {},
     "output_type": "execute_result"
    }
   ],
   "source": [
    "iris.target_names"
   ]
  },
  {
   "cell_type": "code",
   "execution_count": 9,
   "metadata": {
    "tags": []
   },
   "outputs": [
    {
     "data": {
      "text/html": [
       "<div>\n",
       "<style scoped>\n",
       "    .dataframe tbody tr th:only-of-type {\n",
       "        vertical-align: middle;\n",
       "    }\n",
       "\n",
       "    .dataframe tbody tr th {\n",
       "        vertical-align: top;\n",
       "    }\n",
       "\n",
       "    .dataframe thead th {\n",
       "        text-align: right;\n",
       "    }\n",
       "</style>\n",
       "<table border=\"1\" class=\"dataframe\">\n",
       "  <thead>\n",
       "    <tr style=\"text-align: right;\">\n",
       "      <th></th>\n",
       "      <th>sepal length (cm)</th>\n",
       "      <th>sepal width (cm)</th>\n",
       "      <th>petal length (cm)</th>\n",
       "      <th>petal width (cm)</th>\n",
       "      <th>Iris Class</th>\n",
       "    </tr>\n",
       "  </thead>\n",
       "  <tbody>\n",
       "    <tr>\n",
       "      <th>0</th>\n",
       "      <td>5.1</td>\n",
       "      <td>3.5</td>\n",
       "      <td>1.4</td>\n",
       "      <td>0.2</td>\n",
       "      <td>0.0</td>\n",
       "    </tr>\n",
       "    <tr>\n",
       "      <th>1</th>\n",
       "      <td>4.9</td>\n",
       "      <td>3.0</td>\n",
       "      <td>1.4</td>\n",
       "      <td>0.2</td>\n",
       "      <td>0.0</td>\n",
       "    </tr>\n",
       "    <tr>\n",
       "      <th>2</th>\n",
       "      <td>4.7</td>\n",
       "      <td>3.2</td>\n",
       "      <td>1.3</td>\n",
       "      <td>0.2</td>\n",
       "      <td>0.0</td>\n",
       "    </tr>\n",
       "    <tr>\n",
       "      <th>3</th>\n",
       "      <td>4.6</td>\n",
       "      <td>3.1</td>\n",
       "      <td>1.5</td>\n",
       "      <td>0.2</td>\n",
       "      <td>0.0</td>\n",
       "    </tr>\n",
       "    <tr>\n",
       "      <th>4</th>\n",
       "      <td>5.0</td>\n",
       "      <td>3.6</td>\n",
       "      <td>1.4</td>\n",
       "      <td>0.2</td>\n",
       "      <td>0.0</td>\n",
       "    </tr>\n",
       "  </tbody>\n",
       "</table>\n",
       "</div>"
      ],
      "text/plain": [
       "   sepal length (cm)  sepal width (cm)  petal length (cm)  petal width (cm)  \\\n",
       "0                5.1               3.5                1.4               0.2   \n",
       "1                4.9               3.0                1.4               0.2   \n",
       "2                4.7               3.2                1.3               0.2   \n",
       "3                4.6               3.1                1.5               0.2   \n",
       "4                5.0               3.6                1.4               0.2   \n",
       "\n",
       "   Iris Class  \n",
       "0         0.0  \n",
       "1         0.0  \n",
       "2         0.0  \n",
       "3         0.0  \n",
       "4         0.0  "
      ]
     },
     "execution_count": 9,
     "metadata": {},
     "output_type": "execute_result"
    }
   ],
   "source": [
    "df = pd.DataFrame(data=np.hstack((iris.data, iris.target[:,np.newaxis])), \n",
    "                 columns=np.hstack((iris.feature_names,'Iris Class')))\n",
    "df.head()"
   ]
  },
  {
   "cell_type": "markdown",
   "metadata": {},
   "source": [
    "Let's consider each iris flower to be characterized by its sepal length in cm.\n",
    "\n",
    "Answer the following questions:\n",
    "\n",
    "1. Plot the histogram for the three types of iris flowers. Overlay the 3 histograms, add a legend and axis labels.\n",
    "2. Estimate the density function for each type of iris using Kernel Density Estimation (KDE) with a Gaussian kernel.\n",
    "3. In the same plot, plot the Gaussian KDE for each class along with each class histogram. Include legends and axis labels.\n",
    "4. Compute the prior probability for each type of iris based on this data.\n",
    "5. Find the region of values (you may use ```x=np.linspace(3.6,9,1000)```) for which MAP will decide iris class 0 (setosa), 1 (versicolor) and 2 (virginica).\n",
    "6. Based on this decision rule, compute how many samples will be falsely classified as class 0 (setosa)."
   ]
  },
  {
   "cell_type": "markdown",
   "metadata": {
    "tags": []
   },
   "source": [
    "# Problem 8\n",
    "\n",
    "Consider the following dataset:"
   ]
  },
  {
   "cell_type": "code",
   "execution_count": 8,
   "metadata": {},
   "outputs": [
    {
     "data": {
      "image/png": "[encoded data removed]",
      "text/plain": [
       "<Figure size 432x288 with 1 Axes>"
      ]
     },
     "metadata": {
      "needs_background": "light"
     },
     "output_type": "display_data"
    }
   ],
   "source": [
    "from sklearn.datasets import make_blobs\n",
    "\n",
    "X, y = make_blobs(n_samples=600,centers=1)\n",
    "X = np.dot(X, [[0.60834549, -0.63667341], [-0.40887718, 0.85253229]]) \n",
    "plt.scatter(X[:,0],X[:,1],c=y);"
   ]
  },
  {
   "cell_type": "markdown",
   "metadata": {},
   "source": [
    "Answering the following questions:\n",
    "\n",
    "1. Compute the covariance matrix.\n",
    "\n",
    "2. Compute the correlation coefficient using the formula.\n",
    "\n",
    "3. Find the OLS solution using $x$ to predict $y$, what is the MSE and $R^2$ of the OLS solution?\n",
    "\n",
    "4. Plot the fitted linear function with the orginal dataset. \n",
    "\n",
    "5. Performe the Null Hypothesis Tests for Correlation to decide whether the dependence between $x$ and $y$ with significance level of 95%.\n"
   ]
  },
  {
   "cell_type": "markdown",
   "metadata": {},
   "source": [
    "___"
   ]
  },
  {
   "cell_type": "markdown",
   "metadata": {
    "tags": []
   },
   "source": [
    "# Submission Instructions:\n",
    "\n",
    "When you are done with the exercises in this notebook, upload a PDF or your results to Canvas.  To create the PDF with your code and results, you can use the following procedure:\n",
    "\n",
    "1. Go to Kernel\n",
    "2. Click Restart and Run All\n",
    "3. Check over the notebook to make sure everything still looks right\n",
    "\n",
    "**At this point, you may be able to just choose \"Print\" from JupyterLab's File menu and then print to PDF (OS dependent). If everything is correct in the PDF version, then upload that PDF to the assignment in Canvas.**\n",
    "\n",
    "**If your PDF is missing any of your outputs, you can use the following procedure:**\n",
    "\n",
    "4. Next, click File at the top on the tool bar below Jupyter icon\n",
    "5. Click Save and Export Notebook as... and choose HTML\n",
    "6. The HTML file will either open in a new tab/window or be downloaded to your Downloads folder. Open it if it is in the Downloads folder\n",
    "7. Print the HTML file to PDF (how to do this is OS dependent). Make sure to save it to somewhere you can find it\n",
    "8. Open the PDF to make sure that everything looks right and that nothing is cut off\n",
    "9. Upload both the PDF and ipynb files to the Canvas assignment"
   ]
  }
 ],
 "metadata": {
  "kernelspec": {
   "display_name": "Python 3 (ipykernel)",
   "language": "python",
   "name": "python3"
  },
  "language_info": {
   "codemirror_mode": {
    "name": "ipython",
    "version": 3
   },
   "file_extension": ".py",
   "mimetype": "text/x-python",
   "name": "python",
   "nbconvert_exporter": "python",
   "pygments_lexer": "ipython3",
   "version": "3.11.4"
  },
  "latex_envs": {
   "LaTeX_envs_menu_present": true,
   "autoclose": false,
   "autocomplete": true,
   "bibliofile": "biblio.bib",
   "cite_by": "apalike",
   "current_citInitial": 1,
   "eqLabelWithNumbers": true,
   "eqNumInitial": 1,
   "hotkeys": {
    "equation": "Ctrl-E",
    "itemize": "Ctrl-I"
   },
   "labels_anchors": false,
   "latex_user_defs": false,
   "report_style_numbering": false,
   "user_envs_cfg": false
  },
  "varInspector": {
   "cols": {
    "lenName": 16,
    "lenType": 16,
    "lenVar": 40
   },
   "kernels_config": {
    "python": {
     "delete_cmd_postfix": "",
     "delete_cmd_prefix": "del ",
     "library": "var_list.py",
     "varRefreshCmd": "print(var_dic_list())"
    },
    "r": {
     "delete_cmd_postfix": ") ",
     "delete_cmd_prefix": "rm(",
     "library": "var_list.r",
     "varRefreshCmd": "cat(var_dic_list()) "
    }
   },
   "types_to_exclude": [
    "module",
    "function",
    "builtin_function_or_method",
    "instance",
    "_Feature"
   ],
   "window_display": false
  }
 },
 "nbformat": 4,
 "nbformat_minor": 4
}
